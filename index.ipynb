{
 "cells": [
  {
   "cell_type": "markdown",
   "metadata": {},
   "source": [
    "# Website A/B Testing - Lab\n",
    "\n",
    "## Introduction\n",
    "\n",
    "In this lab, you'll get another chance to practice your skills at conducting a full A/B test analysis. It will also be a chance to practice your data exploration and processing skills! The scenario you'll be investigating is data collected from the homepage of a music app page for audacity.\n",
    "\n",
    "## Objectives\n",
    "\n",
    "You will be able to:\n",
    "* Analyze the data from a website A/B test to draw relevant conclusions\n",
    "* Explore and analyze web action data"
   ]
  },
  {
   "cell_type": "markdown",
   "metadata": {},
   "source": [
    "## Exploratory Analysis\n",
    "\n",
    "Start by loading in the dataset stored in the file 'homepage_actions.csv'. Then conduct an exploratory analysis to get familiar with the data."
   ]
  },
  {
   "cell_type": "markdown",
   "metadata": {},
   "source": [
    "> Hints:\n",
    "    * Start investigating the id column:\n",
    "        * How many viewers also clicked?\n",
    "        * Are there any anomalies with the data; did anyone click who didn't view?\n",
    "        * Is there any overlap between the control and experiment groups? \n",
    "            * If so, how do you plan to account for this in your experimental design?"
   ]
  },
  {
   "cell_type": "code",
   "execution_count": 2,
   "metadata": {},
   "outputs": [
    {
     "name": "stdout",
     "output_type": "stream",
     "text": [
      "                    timestamp      id       group action\n",
      "0  2016-09-24 17:42:27.839496  804196  experiment   view\n",
      "1  2016-09-24 19:19:03.542569  434745  experiment   view\n",
      "2  2016-09-24 19:36:00.944135  507599  experiment   view\n",
      "3  2016-09-24 19:59:02.646620  671993     control   view\n",
      "4  2016-09-24 20:26:14.466886  536734  experiment   view\n",
      "                  id\n",
      "count    8188.000000\n",
      "mean   564699.749878\n",
      "std    219085.845672\n",
      "min    182988.000000\n",
      "25%    373637.500000\n",
      "50%    566840.500000\n",
      "75%    758078.000000\n",
      "max    937217.000000\n",
      "Number of unique IDs: 6328\n",
      "Number of viewers who clicked: 1860\n",
      "Number of anomalies (clicked without viewing): 1860\n",
      "Number of overlapping users between control and experiment groups: 0\n",
      "action      click  view\n",
      "group                  \n",
      "control       932  3332\n",
      "experiment    928  2996\n"
     ]
    }
   ],
   "source": [
    "#Your code here\n",
    "# Import necessary libraries\n",
    "import pandas as pd\n",
    "\n",
    "# Load the dataset\n",
    "data = pd.read_csv('homepage_actions.csv')\n",
    "\n",
    "# Display the first few rows of the dataset to get an overview\n",
    "print(data.head())\n",
    "\n",
    "# Check the basic statistics of the dataset\n",
    "print(data.describe())\n",
    "\n",
    "# Check the number of unique values in the 'id' column\n",
    "unique_ids = data['id'].nunique()\n",
    "print(f\"Number of unique IDs: {unique_ids}\")\n",
    "\n",
    "# Check the number of viewers who clicked\n",
    "viewers_clicked = data[data['action'] == 'click']['id'].nunique()\n",
    "print(f\"Number of viewers who clicked: {viewers_clicked}\")\n",
    "\n",
    "# Check for anomalies - anyone clicked without viewing?\n",
    "anomalies = data[data['action'] == 'click']['id'].isin(data[data['action'] == 'view']['id']).sum()\n",
    "print(f\"Number of anomalies (clicked without viewing): {anomalies}\")\n",
    "\n",
    "# Check for overlap between control and experiment groups\n",
    "control_group = data[data['group'] == 'control']['id']\n",
    "experiment_group = data[data['group'] == 'experiment']['id']\n",
    "overlap = control_group.isin(experiment_group).sum()\n",
    "print(f\"Number of overlapping users between control and experiment groups: {overlap}\")\n",
    "\n",
    "# Explore the distribution of actions in control and experiment groups\n",
    "action_distribution = data.groupby(['group', 'action']).size().unstack()\n",
    "print(action_distribution)\n"
   ]
  },
  {
   "cell_type": "markdown",
   "metadata": {},
   "source": [
    "## Conduct a Statistical Test\n",
    "\n",
    "Conduct a statistical test to determine whether the experimental homepage was more effective than that of the control group."
   ]
  },
  {
   "cell_type": "code",
   "execution_count": 3,
   "metadata": {},
   "outputs": [
    {
     "name": "stdout",
     "output_type": "stream",
     "text": [
      "action      click  view\n",
      "group                  \n",
      "control       932  3332\n",
      "experiment    928  2996\n",
      "Chi-squared test statistic: 3.636160051233291\n",
      "P-value: 0.056537191086915774\n",
      "Fail to reject the null hypothesis. There is no significant difference between the groups.\n"
     ]
    }
   ],
   "source": [
    "#Your code here\n",
    "from scipy.stats import chi2_contingency\n",
    "\n",
    "# Create a contingency table\n",
    "contingency_table = pd.crosstab(data['group'], data['action'])\n",
    "\n",
    "# Print the contingency table\n",
    "print(contingency_table)\n",
    "\n",
    "# Conduct the chi-squared test\n",
    "chi2, p, _, _ = chi2_contingency(contingency_table)\n",
    "\n",
    "# Print the test statistic and p-value\n",
    "print(f\"Chi-squared test statistic: {chi2}\")\n",
    "print(f\"P-value: {p}\")\n",
    "\n",
    "# Determine statistical significance\n",
    "alpha = 0.05\n",
    "if p < alpha:\n",
    "    print(\"Reject the null hypothesis. There is a significant difference between the groups.\")\n",
    "else:\n",
    "    print(\"Fail to reject the null hypothesis. There is no significant difference between the groups.\")\n"
   ]
  },
  {
   "cell_type": "markdown",
   "metadata": {},
   "source": [
    "## Verifying Results\n",
    "\n",
    "One sensible formulation of the data to answer the hypothesis test above would be to create a binary variable representing each individual in the experiment and control group. This binary variable would represent whether or not that individual clicked on the homepage; 1 for they did and 0 if they did not. \n",
    "\n",
    "The variance for the number of successes in a sample of a binomial variable with n observations is given by:\n",
    "\n",
    "## $n\\bullet p (1-p)$\n",
    "\n",
    "Given this, perform 3 steps to verify the results of your statistical test:\n",
    "1. Calculate the expected number of clicks for the experiment group, if it had the same click-through rate as that of the control group. \n",
    "2. Calculate the number of standard deviations that the actual number of clicks was from this estimate. \n",
    "3. Finally, calculate a p-value using the normal distribution based on this z-score."
   ]
  },
  {
   "cell_type": "markdown",
   "metadata": {},
   "source": [
    "### Step 1:\n",
    "Calculate the expected number of clicks for the experiment group, if it had the same click-through rate as that of the control group. "
   ]
  },
  {
   "cell_type": "code",
   "execution_count": 4,
   "metadata": {},
   "outputs": [
    {
     "name": "stdout",
     "output_type": "stream",
     "text": [
      "Expected number of clicks for the experiment group: 857.6848030018762\n"
     ]
    }
   ],
   "source": [
    "#Your code here\n",
    "# Calculate click-through rate for the control group\n",
    "control_click_rate = contingency_table.loc['control', 'click'] / contingency_table.loc['control'].sum()\n",
    "\n",
    "# Apply the click-through rate to the number of viewers in the experiment group\n",
    "expected_clicks_experiment = control_click_rate * contingency_table.loc['experiment'].sum()\n",
    "\n",
    "# Print the expected number of clicks for the experiment group\n",
    "print(f\"Expected number of clicks for the experiment group: {expected_clicks_experiment}\")\n"
   ]
  },
  {
   "cell_type": "markdown",
   "metadata": {},
   "source": [
    "### Step 2:\n",
    "Calculate the number of standard deviations that the actual number of clicks was from this estimate."
   ]
  },
  {
   "cell_type": "code",
   "execution_count": 5,
   "metadata": {},
   "outputs": [
    {
     "name": "stdout",
     "output_type": "stream",
     "text": [
      "Number of standard deviations from the estimate: 2.6055375912248526\n"
     ]
    }
   ],
   "source": [
    "#Your code here\n",
    "import numpy as np\n",
    "\n",
    "# Calculate the standard deviation for the control group\n",
    "n_control = contingency_table.loc['control'].sum()\n",
    "p_control = control_click_rate\n",
    "std_dev_control = np.sqrt(n_control * p_control * (1 - p_control))\n",
    "\n",
    "# Calculate the actual number of clicks for the experiment group\n",
    "actual_clicks_experiment = contingency_table.loc['experiment', 'click']\n",
    "\n",
    "# Calculate the number of standard deviations\n",
    "num_std_dev = (actual_clicks_experiment - expected_clicks_experiment) / std_dev_control\n",
    "\n",
    "# Print the number of standard deviations\n",
    "print(f\"Number of standard deviations from the estimate: {num_std_dev}\")\n"
   ]
  },
  {
   "cell_type": "markdown",
   "metadata": {},
   "source": [
    "### Step 3: \n",
    "Finally, calculate a p-value using the normal distribution based on this z-score."
   ]
  },
  {
   "cell_type": "code",
   "execution_count": 6,
   "metadata": {},
   "outputs": [
    {
     "name": "stdout",
     "output_type": "stream",
     "text": [
      "P-value based on the normal distribution: 0.9954134896397755\n"
     ]
    }
   ],
   "source": [
    "#Your code here\n",
    "from scipy.stats import norm\n",
    "\n",
    "# Calculate the p-value using the normal distribution\n",
    "p_value = norm.cdf(num_std_dev)\n",
    "\n",
    "# Print the p-value\n",
    "print(f\"P-value based on the normal distribution: {p_value}\")\n"
   ]
  },
  {
   "cell_type": "markdown",
   "metadata": {},
   "source": [
    "### Analysis:\n",
    "\n",
    "Does this result roughly match that of the previous statistical test?\n",
    "\n",
    "> Comment: **Your analysis here**"
   ]
  },
  {
   "cell_type": "code",
   "execution_count": 7,
   "metadata": {},
   "outputs": [
    {
     "data": {
      "text/plain": [
       "'The result obtained from the calculation of the p-value using the normal distribution based on the z-score should generally align with the result from the previous chi-squared test.'"
      ]
     },
     "execution_count": 7,
     "metadata": {},
     "output_type": "execute_result"
    }
   ],
   "source": [
    "\"\"\"The result obtained from the calculation of the p-value using the normal distribution based on the z-score should generally align with the result from the previous chi-squared test.\"\"\""
   ]
  },
  {
   "cell_type": "markdown",
   "metadata": {},
   "source": [
    "## Summary\n",
    "\n",
    "In this lab, you continued to get more practice designing and conducting AB tests. This required additional work preprocessing and formulating the initial problem in a suitable manner. Additionally, you also saw how to verify results, strengthening your knowledge of binomial variables, and reviewing initial statistical concepts of the central limit theorem, standard deviation, z-scores, and their accompanying p-values."
   ]
  }
 ],
 "metadata": {
  "kernelspec": {
   "display_name": "Python 3 (ipykernel)",
   "language": "python",
   "name": "python3"
  },
  "language_info": {
   "codemirror_mode": {
    "name": "ipython",
    "version": 3
   },
   "file_extension": ".py",
   "mimetype": "text/x-python",
   "name": "python",
   "nbconvert_exporter": "python",
   "pygments_lexer": "ipython3",
   "version": "3.11.4"
  }
 },
 "nbformat": 4,
 "nbformat_minor": 2
}
